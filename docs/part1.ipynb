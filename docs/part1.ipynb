{
 "cells": [
  {
   "cell_type": "markdown",
   "metadata": {},
   "source": [
    "## Monte Carlo Simulations\n",
    "\n",
    "In this project we will do:\n",
    "\n",
    "- Price European call/put options\n",
    "- Implement antithetic variates, control variates, and stratified sampling techniques to reduce the variance\n",
    "- Use the Quasi-Monte Carlo midpoint rule to show the linear convergence rate\n",
    "- Measure the absolute error using analytical Black-Scholes prices\n"
   ]
  },
  {
   "cell_type": "markdown",
   "metadata": {},
   "source": [
    "### 1. Black-Scholes Framework (Risk-Neutral Valuation)\n",
    "\n",
    "The price of a European derivative under the risk-neutral measure is given by:\n",
    "\n",
    "$$V_0 = e^{-rT} \\mathbb{E}^{\\mathbb{Q}}[f(S_T)]$$\n",
    "\n",
    "Where:\n",
    "- $V_0$ is the present value of the option\n",
    "- $f(S_T)$ is the payoff at maturity\n",
    "- $r$ is the risk-free rate\n",
    "- $S_T$ is the asset price at time $T$\n",
    "- $\\mathbb{Q}$ is the risk-neutral measure"
   ]
  },
  {
   "cell_type": "code",
   "execution_count": 2,
   "metadata": {},
   "outputs": [],
   "source": [
    "import numpy as np\n",
    "import matplotlib.pyplot as plt\n",
    "from scipy.stats import norm\n",
    "import pandas as pd\n",
    "\n",
    "# Define parameters\n",
    "\n",
    "S0 = 100      # Initial stock price\n",
    "X = 100       # eXercise price\n",
    "T = 1.0       # Time to maturity (in years)\n",
    "r = 0.05      # Risk-free interest rate\n",
    "sigma = 0.2   # Volatility\n",
    "N_values = [int(1.1 ** i) for i in range(100, 1000, 1)]    # Number of Monte Carlo simulations\n",
    "call_or_put = \"call\""
   ]
  },
  {
   "cell_type": "markdown",
   "metadata": {},
   "source": [
    "Under the Black-Scholes model, the stock price $S_t$ follows **Geometric Brownian Motion (GBM)**:\n",
    "\n",
    "$$dS_t = r S_t dt + \\sigma S_t dW_t^{\\mathbb{Q}}$$\n",
    "\n",
    "Solution of this SDE:\n",
    "\n",
    "$$S_T = S_0 \\cdot \\exp\\left( \\left( r - \\frac{1}{2}\\sigma^2 \\right) T + \\sigma \\sqrt{T} Z \\right), \\quad Z \\sim \\mathcal{N}(0, 1)$$"
   ]
  },
  {
   "cell_type": "markdown",
   "metadata": {},
   "source": [
    "### 2. Monte Carlo Estimation\n",
    "\n",
    "Monte Carlo approximation of the expectation:\n",
    "\n",
    "$$\\mathbb{E}[f(S_T)] \\approx \\frac{1}{N} \\sum_{i=1}^N f(S_T^{(i)})$$\n",
    "\n",
    "Thus, the option price becomes:\n",
    "\n",
    "$$V_0 = e^{-rT} \\cdot \\mathbb{E}[f(S_T)] \\approx e^{-rT} \\cdot \\frac{1}{N} \\sum_{i=1}^N f(S_T^{(i)})$$\n",
    "\n",
    "Payoffs:\n",
    "- Call option: $f(S_T) = \\max(S_T - X, 0)$\n",
    "- Put option: $f(S_T) = \\max(X - S_T, 0)$"
   ]
  },
  {
   "cell_type": "code",
   "execution_count": 3,
   "metadata": {},
   "outputs": [],
   "source": [
    "def standard_mc(N, S0, X, T, r, sigma, which=\"call\"):\n",
    "\n",
    "    Z = np.random.randn(N)\n",
    "    ST = S0 * np.exp((r - 0.5 * sigma**2) * T + sigma * np.sqrt(T) * Z)\n",
    "\n",
    "    if which == \"call\":\n",
    "        discounted_payoffs = np.exp(-r * T) * np.maximum(ST - X, 0)\n",
    "    elif which == \"put\":\n",
    "        discounted_payoffs = np.exp(-r * T) * np.maximum(X - ST, 0)\n",
    "    else:\n",
    "        raise ValueError(\"Invalid option type. Use 'call' or 'put'.\")\n",
    "\n",
    "    mc_price = np.mean(discounted_payoffs)\n",
    "\n",
    "    sample_std_dev = np.std(discounted_payoffs, ddof=1)\n",
    "    standard_error = sample_std_dev / np.sqrt(N)\n",
    "    standard_error_95 = 1.96 * standard_error # Calculate standard error at 95% confidence level\n",
    "\n",
    "    return mc_price, standard_error_95"
   ]
  },
  {
   "cell_type": "markdown",
   "metadata": {},
   "source": [
    "### 3. Variance Reduction Techniques\n",
    "\n",
    "As we know, standard Monte Carlo converges at rate $O(1/\\sqrt{N})$\n",
    "\n",
    "Reducing the variance of your estimator improves accuracy per simulation"
   ]
  },
  {
   "cell_type": "markdown",
   "metadata": {},
   "source": [
    "#### 3.1 Antithetic Variates\n",
    "\n",
    "Idea: Use negatively correlated samples $Z$ and $-Z$ to reduce variance.\n",
    "\n",
    "$$\\overline{f}(Z_i) = \\left(f(Z_i) + f(-Z_i)\\right)$$\n",
    "\n",
    "New estimator is still unbiased:\n",
    "\n",
    "$$ \\mathbb{E}[\\overline{f}] = \\frac{1}{2} \\left( \\mathbb{E}[f(Z)] + \\mathbb{E}[f(-Z)] \\right) = \\mathbb{E}[f(Z)] $$\n",
    "\n",
    "And the new variance is:\n",
    "$$\n",
    "\\begin{align*}\n",
    "\\mathbb{V}[\\overline{f}] = & \\frac{1}{4} \\left( \\mathbb{V}[f(Z)] + 2 \\text{Cov}[f(Z), f(−Z)] + \\mathbb{V}[f(-Z)] \\right) \\\\\n",
    "                         =\\ & \\frac{1}{2} \\left( \\mathbb{V}[f(Z)] + \\text{Cov}[f(Z), f(−Z)]\\right)\n",
    "\\end{align*}\n",
    "$$\n",
    "\n",
    "- in worst-case scenario, $\\text{Cov}[f(Z), f(−Z)] = \\mathbb{V}[f(Z)]$, which gives no gain\n",
    "- for example, in case of a linear payoff $ f = a + b Z$, $\\text{Cov}[f(Z), f(−Z)] = -\\mathbb{V}[f(Z)]$, which means that $\\mathbb{V}[\\overline{f}]$ vanishes\n",
    "\n",
    "Effect: The fluctuations from $Z$ and $-Z$ cancel out to some degree."
   ]
  },
  {
   "cell_type": "code",
   "execution_count": 5,
   "metadata": {},
   "outputs": [],
   "source": [
    "def antithetic_variates_mc(N, S0, X, T, r, sigma, which=\"call\"):\n",
    "    Z = np.random.randn(N // 2)\n",
    "    ST = S0 * np.exp((r - 0.5 * sigma**2) * T + sigma * np.sqrt(T) * Z)\n",
    "    ST_anti = S0 * np.exp((r - 0.5 * sigma**2) * T - sigma * np.sqrt(T) * Z)\n",
    "\n",
    "    if which == \"call\":\n",
    "        discounted_payoffs = np.exp(-r * T) * 0.5 * (np.maximum(ST - X, 0) + np.maximum(ST_anti - X, 0))\n",
    "    elif which == \"put\":\n",
    "        discounted_payoffs = np.exp(-r * T) * 0.5 * (np.maximum(X - ST, 0) + np.maximum(X - ST_anti, 0))\n",
    "    else:\n",
    "        raise ValueError(\"Invalid option type. Use 'call' or 'put'.\")\n",
    "\n",
    "    mc_price = np.mean(discounted_payoffs)\n",
    "\n",
    "    sample_std_dev = np.std(discounted_payoffs, ddof=1)\n",
    "    standard_error = sample_std_dev / np.sqrt(N // 2)\n",
    "    standard_error_95 = 1.96 * standard_error # Calculate standard error at 95% confidence level\n",
    "\n",
    "    return mc_price, standard_error_95"
   ]
  },
  {
   "cell_type": "markdown",
   "metadata": {},
   "source": [
    "#### 3.2 Control Variates\n",
    "\n",
    "**Idea**: Use a variable Y correlated with the payoff $f$, where $\\mathbb{E}[g] = \\mu_g$ is known.\n",
    "\n",
    "Adjusted estimator:\n",
    "\n",
    "$$f_{\\text{adj}} = f + \\lambda(\\mu_g - g)$$\n",
    "\n",
    "New estimator is still unbiased:\n",
    "\n",
    "$$ \\mathbb{E}[f_{\\text{adj}}] = \\mathbb{E}[f] + \\mathbb{E}[\\lambda \\mu_g - g] = \\mathbb{E}[f] $$\n",
    "\n",
    "The variance for new estimator is:\n",
    "\n",
    "$$ \\mathbb{V}[f − \\lambda (\\mu_g − \\mathbb{E}[g])] = N^{-1} \\left( \\mathbb{V}[f]− 2 \\lambda \\text{Cov}[f, g] + \\lambda^2 \\mathbb{V}[g] \\right)$$\n",
    "\n",
    "Minimum is achieved for:\n",
    "\n",
    "$$\\lambda = \\frac{\\text{Cov}(f, g)}{\\mathbb{V}(g)}$$\n",
    "\n",
    "In this context:\n",
    "- $f = \\max(S_T - X, 0)$ for Call or $f = \\max(X - S_T, 0)$ for Put\n",
    "- $g = S_T$, with $\\mathbb{E}[S_T] = S_0 e^{rT}$\n",
    "\n",
    "Or, use the exact Black-Scholes price as control for additional adjustment."
   ]
  },
  {
   "cell_type": "code",
   "execution_count": 6,
   "metadata": {},
   "outputs": [],
   "source": [
    "def control_variates_mc(N, S0, X, T, r, sigma, which=\"call\"):\n",
    "\n",
    "    Z = np.random.randn(N)\n",
    "    ST = S0 * np.exp((r - 0.5 * sigma**2) * T + sigma * np.sqrt(T) * Z)\n",
    "\n",
    "    # Step 2: Calculate call option payoffs (X) and control variable (Y = S_T)\n",
    "\n",
    "    if which == \"call\":\n",
    "        payoffs = np.maximum(ST - X, 0)\n",
    "    elif which == \"put\":\n",
    "        payoffs = np.maximum(X - ST, 0)\n",
    "    else:\n",
    "        raise ValueError(\"Invalid option type. Use 'call' or 'put'.\")\n",
    "\n",
    "    g = ST\n",
    "    g_mean = S0 * np.exp(r * T)  # known expected value of S_T under risk-neutral measure\n",
    "\n",
    "    # Step 3: Estimate lambda*\n",
    "    cov = np.cov(payoffs, g, ddof=1)[0, 1]\n",
    "    var_g = np.var(g, ddof=1)\n",
    "    lambda_star = cov / var_g\n",
    "\n",
    "    # Step 4: Apply control variate adjustment\n",
    "    payoffs_adj = payoffs + lambda_star * (g_mean - g)\n",
    "    discounted_payoffs_adj = np.exp(-r * T) * payoffs_adj\n",
    "\n",
    "    # Step 5: Estimate option price using the adjusted estimator\n",
    "    mc_price = np.mean(discounted_payoffs_adj)\n",
    "\n",
    "    standard_error = np.std(discounted_payoffs_adj, ddof=1) / np.sqrt(N)\n",
    "    standard_error_95 = 1.96 * standard_error # Calculate standard error at 95% confidence level\n",
    "\n",
    "    return mc_price, standard_error_95"
   ]
  },
  {
   "cell_type": "markdown",
   "metadata": {},
   "source": [
    "#### 3.3 Stratified Sampling\n",
    "\n",
    "Idea: Divide the interval $[0, 1]$ into $M$ equal subintervals and sample once per interval.\n",
    "\n",
    "Then use inverse transform sampling:\n",
    "\n",
    "$$Z_i = \\Phi^{-1}\\left(\\frac{i - 0.5}{M}\\right), \\quad i = 1, …, M$$\n",
    "\n",
    "Where $\\Phi^{-1}$ is the inverse CDF of standard normal.\n",
    "\n",
    "The number of samples in each subinterval is $L = N/M$\n",
    "\n",
    "In this case \n",
    "\n",
    "$$\\mathbb{E}[\\overline{F}] = M^{-1} \\sum_j \\mu_j, \\quad \\text{where} \\quad \\mu_j = \\mathbb{E}[f(U) \\; | \\; U \\in \\text{strata} \\; j],$$\n",
    "\n",
    "and\n",
    "\n",
    "$$\\mathbb{V}[\\overline{F}] = N^{-1} M^{-1} \\sum_j \\sigma_j^2, \\quad \\text{where} \\quad \\sigma^2_j = \\mathbb{V}[f(U) \\; | \\; U \\in \\text{strata} \\; j]$$\n",
    "\n",
    "with $N = LM$ being the total number of samplings"
   ]
  },
  {
   "cell_type": "code",
   "execution_count": 7,
   "metadata": {},
   "outputs": [],
   "source": [
    "def stratified_sampling_mc(N, S0, X, T, r, sigma, which=\"call\", M=1000):\n",
    "\n",
    "    L = N // M  # Number of samples per stratum\n",
    "    ave = 0.0\n",
    "    var = 0.0\n",
    "\n",
    "    for m in range(1, M + 1):\n",
    "        # Stratified uniform samples in [(m-1)/M, m/M]\n",
    "        U = (m - 1 + np.random.rand(L)) / M\n",
    "        Z = norm.ppf(U)\n",
    "\n",
    "        # Simulate asset prices\n",
    "        ST = S0 * np.exp((r - 0.5 * sigma**2) * T + sigma * np.sqrt(T) * Z)\n",
    "\n",
    "        if which == \"call\":\n",
    "            discounted_payoffs = np.exp(-r * T) * np.maximum(ST - X, 0)\n",
    "        elif which == \"put\":\n",
    "            discounted_payoffs = np.exp(-r * T) * np.maximum(X - ST, 0)\n",
    "        else:\n",
    "            raise ValueError(\"Invalid option type. Use 'call' or 'put'.\")\n",
    "\n",
    "        ave1 = np.mean(discounted_payoffs)\n",
    "        var1 = np.var(discounted_payoffs, ddof=1) / L\n",
    "\n",
    "        # Aggregate the results\n",
    "        ave += ave1 / M\n",
    "        var += var1 / M**2\n",
    "\n",
    "    mc_price = ave\n",
    "    standard_error_95 = 1.96 * np.sqrt(var) # Calculate standard error at 95% confidence level\n",
    "\n",
    "    return mc_price, standard_error_95"
   ]
  },
  {
   "cell_type": "markdown",
   "metadata": {},
   "source": [
    "### 4. Quasi Monte Carlo (QMC)\n",
    "\n",
    "**Quasi Monte Carlo (QMC)** replaces random points with deterministic, low-discrepancy sequences that fill the space more uniformly:\n",
    "\n",
    "$$\n",
    "\\mathbb{E}[f(X)] \\approx \\frac{1}{N} \\sum_{i=1}^N f(\\Phi^{-1}(u_i)), \\quad u_i \\in [0,1] \\text{ (evenly spaced)}\n",
    "$$\n",
    "\n",
    "QMC can converge at a rate of $\\mathcal{O}(1/N)$ under smoothness conditions.\n",
    "\n",
    "Even sampling ensures that the domain of the random variable is uniformly covered, which prevents clustering in regions like the tails or the center, and helps stabilize the mean estimate. The variance remains unchanged in this case.\n",
    "\n",
    "#### 4.1 The Midpoint Rule in 1D\n",
    "\n",
    "In one dimension, a simple QMC technique is the **midpoint rule**:\n",
    "\n",
    "$$\n",
    "u_i = \\frac{i - 0.5}{N}, \\quad i = 1, \\dots, N\n",
    "$$\n",
    "\n",
    "This gives evenly spaced points in the unit interval, which are then transformed using the **inverse CDF (PPF)** to match the target distribution, which is the standard normal distribution for Black-Scholes pricing:\n",
    "\n",
    "$$\n",
    "Z_i = \\Phi^{-1}(u_i), \\quad Z_i \\sim \\mathcal{N}(0, 1)\n",
    "$$\n",
    "\n",
    "This approach is deterministic and achieves low absolute error in 1D cases such as pricing European options. In higher dimensions one can use **Sobol** or **Halton** sequences.\n"
   ]
  },
  {
   "cell_type": "code",
   "execution_count": 8,
   "metadata": {},
   "outputs": [],
   "source": [
    "def midpoint_rule_qmc(N, S0, X, T, r, sigma, which=\"call\"):\n",
    "\n",
    "    U = (np.arange(N) + 0.5) / N\n",
    "    Z = norm.ppf(U)\n",
    "    ST = S0 * np.exp((r - 0.5 * sigma**2) * T + sigma * np.sqrt(T) * Z)\n",
    "\n",
    "    if which == \"call\":\n",
    "        discounted_payoffs = np.exp(-r * T) * np.maximum(ST - X, 0)\n",
    "    elif which == \"put\":\n",
    "        discounted_payoffs = np.exp(-r * T) * np.maximum(X - ST, 0)\n",
    "    else:\n",
    "        raise ValueError(\"Invalid option type. Use 'call' or 'put'.\")\n",
    "\n",
    "    mc_price = np.mean(discounted_payoffs)\n",
    "\n",
    "    return mc_price"
   ]
  },
  {
   "cell_type": "markdown",
   "metadata": {},
   "source": [
    "### 5. Analytical solution to Black-Scholes equation for European options\n",
    "\n",
    "\n",
    "For a **European Call**, the analytical price is:\n",
    "\n",
    "$$C(S_0, X, T, r, \\sigma) = S_0 N(d_1) - X e^{-rT} N(d_2)$$\n",
    "\n",
    "Where:\n",
    "\n",
    "$$d_1 = \\frac{\\ln(S_0 / X) + (r + \\sigma^2 / 2) T}{\\sigma \\sqrt{T}}, \\quad d_2 = d_1 - \\sigma \\sqrt{T}$$\n",
    "\n",
    "**European Put** has the following form:\n",
    "\n",
    "$$P(S_0, X, T, r, \\sigma) = -S_0 N(-d_1) + X e^{-rT} N(-d_2)$$\n",
    "\n",
    "We will use this as ground truth to measure:\n",
    "- Absolute Error\n",
    "- Convergence trends"
   ]
  },
  {
   "cell_type": "code",
   "execution_count": null,
   "metadata": {},
   "outputs": [],
   "source": [
    "def black_scholes_european_options(S0, X, T, r, sigma, which=\"call\"):\n",
    "\n",
    "    d1 = (np.log(S0 / X) + (r + 0.5 * sigma**2) * T) / (sigma * np.sqrt(T))\n",
    "    d2 = d1 - sigma * np.sqrt(T)\n",
    "\n",
    "    if which == \"call\":\n",
    "        price = S0 * norm.cdf(d1) - X * np.exp(-r * T) * norm.cdf(d2)\n",
    "    elif which == \"put\":\n",
    "        price = X * np.exp(-r * T) * norm.cdf(-d2) - S0 * norm.cdf(-d1)\n",
    "    else:\n",
    "        raise ValueError(\"Invalid option type. Use 'call' or 'put'.\")\n",
    "\n",
    "    return price"
   ]
  },
  {
   "cell_type": "markdown",
   "metadata": {},
   "source": [
    "### 6. Results\n",
    "\n",
    "In this example we estimated the prices of European Call and Put options using the standard Monte Carlo method, several variance reduction techniques and the Quasi-Monte Carlo midpoint rule. \n",
    "\n",
    "Below you can find the absolute error of the estimated option price as a function of $N$ - the total number of samples. \n",
    "\n",
    "Conclusions:\n",
    "- The **antithetic variates** method provided a variance reduction by a factor of approximately $1.5$ (almost invisible in log scale)\n",
    "- The **control variates** technique achieved a gain of around a factor of $3$ compared to standard MC\n",
    "- the most powerful MC-base variance reduction method is the **stratified sampling** approach, giving an improvement of up to $2$ orders of magnitude in accuracy\n",
    "- The convergence rate for all MC-based methods was confirmed to follow the expected $\\mathcal{O}(1/\\sqrt{N})$\n",
    "- In case of **Quasi-Monte Carlo** method, the convergence rate is found to be linear $\\mathcal{O}(1/N)$, which is consistent with theoretical predictions"
   ]
  },
  {
   "cell_type": "markdown",
   "metadata": {},
   "source": []
  },
  {
   "cell_type": "markdown",
   "metadata": {},
   "source": [
    "<p align=\"center\">\n",
    "  <img src=\"figures/mc_results_abs_err_call.svg\" width=\"1000\">\n",
    "</p>"
   ]
  },
  {
   "cell_type": "markdown",
   "metadata": {},
   "source": [
    "<p align=\"center\">\n",
    "  <img src=\"figures/mc_results_abs_err_put.svg\" width=\"1000\">\n",
    "</p>"
   ]
  },
  {
   "cell_type": "markdown",
   "metadata": {},
   "source": [
    "Below you can see the standard error of Monte Carlo sampling as a function of $N$, the total number of samples."
   ]
  },
  {
   "cell_type": "markdown",
   "metadata": {},
   "source": [
    "<p align=\"center\">\n",
    "  <img src=\"figures/mc_results_std_err_call.svg\" width=\"1000\">\n",
    "</p>"
   ]
  },
  {
   "cell_type": "markdown",
   "metadata": {},
   "source": [
    "<p align=\"center\">\n",
    "  <img src=\"figures/mc_results_std_err_put.svg\" width=\"1000\">\n",
    "</p>"
   ]
  }
 ],
 "metadata": {
  "kernelspec": {
   "display_name": ".venv",
   "language": "python",
   "name": "python3"
  },
  "language_info": {
   "codemirror_mode": {
    "name": "ipython",
    "version": 3
   },
   "file_extension": ".py",
   "mimetype": "text/x-python",
   "name": "python",
   "nbconvert_exporter": "python",
   "pygments_lexer": "ipython3",
   "version": "3.12.7"
  }
 },
 "nbformat": 4,
 "nbformat_minor": 2
}
