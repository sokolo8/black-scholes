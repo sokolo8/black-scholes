{
 "cells": [
  {
   "cell_type": "markdown",
   "metadata": {},
   "source": [
    "# Heston's Stochastic Volatility Model under real world probability measure\n",
    "\n",
    "$\\large dS_t = \\mu S_t dt + \\sqrt{v_t} S_t dW^\\mathbb{P}_{1,t}$\n",
    "\n",
    "$\\large dv_t = \\kappa (\\theta - v_t)dt + \\sigma \\sqrt{v_t} dW^\\mathbb{P}_{2,t}$\n",
    "\n",
    "$\\large \\rho dt = dW^\\mathbb{P}_{2,t} dW^\\mathbb{P}_{2,t} $\n",
    "\n",
    "## Using Girsanov's Thereom to $\\mathbb{P} \\to \\mathbb{Q}$\n",
    "$\\large dW^\\mathbb{Q}_{S,t} = dW^\\mathbb{P}_{S,t} + \\alpha_S dt, \\alpha_S  = \\frac{\\mu_\\mathbb{P}-r}{\\sqrt{v_t}}$\n",
    "\n",
    "$\\large dW^\\mathbb{Q}_{v,t} = dW^\\mathbb{P}_{v,t} + \\alpha_v dt, \\alpha_v  = \\frac{\\lambda}{\\sigma^\\mathbb{P}} \\sqrt{v_t}$\n",
    "\n",
    "\n",
    "## Heston's Stochastic Volatility Model under risk-neutral measure\n",
    "\n",
    "$\\large dS_t = r S_t dt + \\sqrt{v_t} S_t dW^\\mathbb{Q}_{1,t}$\n",
    "\n",
    "$\\large dv_t = \\kappa^\\mathbb{Q} (\\theta^\\mathbb{Q} - v_t)dt + \\sigma \\sqrt{v_t} dW^\\mathbb{Q}_{2,t}$\n",
    "\n",
    "$\\large \\rho^\\mathbb{Q} dt = dW^\\mathbb{Q}_{2,t} dW^\\mathbb{Q}_{2,t} $\n",
    "\n",
    "Where: $\\large \\lambda$ is the variance risk premium\n",
    "\n",
    "$\\large \\rho^\\mathbb{Q} = \\rho, \\kappa^\\mathbb{Q} = \\kappa+\\lambda,  \\theta^\\mathbb{Q} = \\kappa \\theta/(\\kappa+\\lambda)$\n",
    "\n",
    "Notation:\n",
    "- $S_t$ Equity spot price, financial index\n",
    "- $v_t$ Variance.\n",
    "- $C$ European call option price.\n",
    "- $K$ Strike price.\n",
    "- $W_{1,2}$ Standard Brownian movements.\n",
    "- $r$ Interest rate.\n",
    "- $\\kappa$ Mean reversion rate.\n",
    "- $\\theta$ Long run variance.\n",
    "- $v_0$ Initial variance.\n",
    "- $\\sigma$ Volatility of variance.\n",
    "- $\\rho$ Correlation parameter.\n",
    "- $t$ Current date.\n",
    "- $T$ Maturity date."
   ]
  }
 ],
 "metadata": {
  "kernelspec": {
   "display_name": ".venv",
   "language": "python",
   "name": "python3"
  },
  "language_info": {
   "name": "python",
   "version": "3.12.7"
  }
 },
 "nbformat": 4,
 "nbformat_minor": 2
}
